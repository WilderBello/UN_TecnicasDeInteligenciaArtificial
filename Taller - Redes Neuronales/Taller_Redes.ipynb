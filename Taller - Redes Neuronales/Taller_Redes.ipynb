{
 "cells": [
  {
   "cell_type": "markdown",
   "metadata": {},
   "source": [
    "<h1>Algoritmo de entrenamiento de perceptrón</h1>\n",
    "<h4>Integrantes: Javier Eduardo Gutierrez Serrano - Wilder Ofrey Bello Herrera</h4>"
   ]
  },
  {
   "cell_type": "code",
   "execution_count": 30,
   "metadata": {},
   "outputs": [],
   "source": [
    "# Con datasets de sklearn\n",
    "from sklearn import datasets\n",
    "import numpy as np\n",
    "x, y = datasets.make_blobs(n_samples=150, n_features=6, centers=2, cluster_std=1.05, random_state=2)"
   ]
  },
  {
   "cell_type": "code",
   "execution_count": 31,
   "metadata": {},
   "outputs": [],
   "source": [
    "def step(z):\n",
    "    return 1. if (z>0) else 0."
   ]
  },
  {
   "cell_type": "code",
   "execution_count": 32,
   "metadata": {},
   "outputs": [],
   "source": [
    "def percep(x, y, lr, epochs):\n",
    "    m, n = x.shape\n",
    "    \n",
    "    w = np.zeros((n+1,1))\n",
    "    \n",
    "    n_miss_list = []\n",
    "    \n",
    "    for epoch in range(epochs):\n",
    "        n_miss = 0\n",
    "        for idx, x_i in enumerate(x):\n",
    "            x_i = np.insert(x_i, 0, 1).reshape(-1,1)\n",
    "            y_ = step(np.dot(x_i.T, w))\n",
    "            if (np.squeeze(y_) - y[idx]) != 0:\n",
    "                w += lr*((y[idx] - y_)*x_i)\n",
    "                n_miss += 1\n",
    "    return w, n_miss_list"
   ]
  },
  {
   "cell_type": "code",
   "execution_count": 33,
   "metadata": {},
   "outputs": [
    {
     "name": "stdout",
     "output_type": "stream",
     "text": [
      "[[ 0.8       ]\n",
      " [-4.81210912]\n",
      " [ 2.47048785]\n",
      " [-2.70630553]\n",
      " [-3.79637376]\n",
      " [ 1.03200015]\n",
      " [ 0.45872894]]\n"
     ]
    }
   ],
   "source": [
    "lr = 0.8 # radio de aprendizaje\n",
    "epochs = 10\n",
    "w, n_miss_list = percep(x, y, lr, epochs)\n",
    "\n",
    "print(w)"
   ]
  }
 ],
 "metadata": {
  "kernelspec": {
   "display_name": "Python 3.10.5 64-bit",
   "language": "python",
   "name": "python3"
  },
  "language_info": {
   "codemirror_mode": {
    "name": "ipython",
    "version": 3
   },
   "file_extension": ".py",
   "mimetype": "text/x-python",
   "name": "python",
   "nbconvert_exporter": "python",
   "pygments_lexer": "ipython3",
   "version": "3.10.5"
  },
  "orig_nbformat": 4,
  "vscode": {
   "interpreter": {
    "hash": "9b11b5c8b55406c93c09919f3a73eb89668d6cb4e3af820905d56541b8a222fb"
   }
  }
 },
 "nbformat": 4,
 "nbformat_minor": 2
}
