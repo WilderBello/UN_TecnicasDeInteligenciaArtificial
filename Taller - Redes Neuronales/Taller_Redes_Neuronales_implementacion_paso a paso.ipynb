{
 "cells": [
  {
   "cell_type": "markdown",
   "metadata": {},
   "source": [
    "<h1>Algoritmo de entrenamiento de perceptrón</h1>\n",
    "<h4>Integrantes: Javier Eduardo Gutierrez Serrano - Wilder Ofrey Bello Herrera</h4>"
   ]
  },
  {
   "cell_type": "code",
   "execution_count": 1,
   "metadata": {},
   "outputs": [
    {
     "name": "stdout",
     "output_type": "stream",
     "text": [
      "[1, 0, 1, 1, 0]\n",
      "[ 29 -22  25  19   4]\n",
      "[array([  1,  -3,  12, -11, -12]), array([  1,  -3, -10,  -1,  27]), array([  1, -19, -28,  14,  14]), array([  1,  22,  22, -13, -22]), array([  1, -27, -11,  20, -30]), array([  1,  -1, -26,  24,  19])]\n"
     ]
    }
   ],
   "source": [
    "import numpy as np\n",
    "# Numero de elementos en el dataset\n",
    "N = 5\n",
    "Y_ = [1, 0, 1, 1, 0]\n",
    "print(Y_)\n",
    "# 1. Inicializar aleatoriamente los parametros(pesos) w_i\n",
    "W = np.random.randint(low=-30, high=30, size=N)\n",
    "print(W)\n",
    "X0 = np.random.randint(low=-30, high=30, size=(N))\n",
    "X0[0] = 1\n",
    "X1 = np.random.randint(low=-30, high=30, size=(N))\n",
    "X1[0] = 1\n",
    "X2 = np.random.randint(low=-30, high=30, size=(N))\n",
    "X2[0] = 1\n",
    "X3 = np.random.randint(low=-30, high=30, size=(N))\n",
    "X3[0] = 1\n",
    "X4 = np.random.randint(low=-30, high=30, size=(N))\n",
    "X4[0] = 1\n",
    "X5 = np.random.randint(low=-30, high=30, size=(N))\n",
    "X5[0] = 1\n",
    "\n",
    "X = [X0, X1, X2, X3, X4, X5]\n",
    "print(X)\n",
    "\n",
    "# Calcular Net\n",
    "def calcularNet(X, W):\n",
    "    Net = list()\n",
    "    \n",
    "    for i in range(len(W)):\n",
    "        elemento = 0\n",
    "        for j in range(len(W)):\n",
    "            elemento += X[i][j]*W[i]\n",
    "        Net.append(elemento)\n",
    "    return Net\n",
    "\n",
    "# Calcular Y\n",
    "def FA(connection):\n",
    "    Y = list()\n",
    "    for con in range(len(connection)):\n",
    "        if connection[con] < 0:\n",
    "            Y.append(0)\n",
    "        else:\n",
    "            Y.append(1)\n",
    "    return Y\n",
    "\n",
    "# Calcular error\n",
    "def Errores(Y, Y_):\n",
    "    error = False\n",
    "    \n",
    "    for i in range(len(Y)):\n",
    "        if Y_[i] - Y[i] != 0:\n",
    "            error = True\n",
    "            error_num = Y_[i] - Y[i]\n",
    "    \n",
    "    return error, error_num\n",
    "\n",
    "# Actualizar los pesos\n",
    "def actualizar(W, X, error_num):\n",
    "    W_next = list()\n",
    "    \n",
    "    for i in range(len(W)):\n",
    "        W_next.append(W[i] + error_num*X[i])\n",
    "    \n",
    "    return W_next"
   ]
  },
  {
   "cell_type": "code",
   "execution_count": 2,
   "metadata": {},
   "outputs": [
    {
     "name": "stdout",
     "output_type": "stream",
     "text": [
      "[-377, -308, -450, 190, -188]\n",
      "[0, 0, 0, 1, 0]\n",
      "True 1\n",
      "[array([30, 26, 41, 18, 17]), array([-21, -25, -32, -23,   5]), array([26,  6, -3, 39, 39]), array([20, 41, 41,  6, -3]), array([  5, -23,  -7,  24, -26])]\n",
      "Final de ciclo:  0\n",
      "[array([-390, -338, -533, -234, -221]), array([-294, -350, -448, -322,   70]), array([-468, -108,   54, -702, -702]), array([200, 410, 410,  60, -30]), array([ -235,  1081,   329, -1128,  1222])]\n"
     ]
    },
    {
     "ename": "ValueError",
     "evalue": "The truth value of an array with more than one element is ambiguous. Use a.any() or a.all()",
     "output_type": "error",
     "traceback": [
      "\u001b[1;31m---------------------------------------------------------------------------\u001b[0m",
      "\u001b[1;31mValueError\u001b[0m                                Traceback (most recent call last)",
      "\u001b[1;32mc:\\Users\\wob19\\Music\\UN_TecnicasDeInteligenciaArtificial\\Taller - Redes Neuronales\\Taller_Redes_Neuronales_implementacion_paso a paso.ipynb Celda 3\u001b[0m in \u001b[0;36m<cell line: 3>\u001b[1;34m()\u001b[0m\n\u001b[0;32m      <a href='vscode-notebook-cell:/c%3A/Users/wob19/Music/UN_TecnicasDeInteligenciaArtificial/Taller%20-%20Redes%20Neuronales/Taller_Redes_Neuronales_implementacion_paso%20a%20paso.ipynb#W2sZmlsZQ%3D%3D?line=3'>4</a>\u001b[0m Net \u001b[39m=\u001b[39m calcularNet(X, W)\n\u001b[0;32m      <a href='vscode-notebook-cell:/c%3A/Users/wob19/Music/UN_TecnicasDeInteligenciaArtificial/Taller%20-%20Redes%20Neuronales/Taller_Redes_Neuronales_implementacion_paso%20a%20paso.ipynb#W2sZmlsZQ%3D%3D?line=4'>5</a>\u001b[0m \u001b[39mprint\u001b[39m(Net)\n\u001b[1;32m----> <a href='vscode-notebook-cell:/c%3A/Users/wob19/Music/UN_TecnicasDeInteligenciaArtificial/Taller%20-%20Redes%20Neuronales/Taller_Redes_Neuronales_implementacion_paso%20a%20paso.ipynb#W2sZmlsZQ%3D%3D?line=5'>6</a>\u001b[0m Y \u001b[39m=\u001b[39m FA(Net)\n\u001b[0;32m      <a href='vscode-notebook-cell:/c%3A/Users/wob19/Music/UN_TecnicasDeInteligenciaArtificial/Taller%20-%20Redes%20Neuronales/Taller_Redes_Neuronales_implementacion_paso%20a%20paso.ipynb#W2sZmlsZQ%3D%3D?line=6'>7</a>\u001b[0m \u001b[39mprint\u001b[39m(Y)\n\u001b[0;32m      <a href='vscode-notebook-cell:/c%3A/Users/wob19/Music/UN_TecnicasDeInteligenciaArtificial/Taller%20-%20Redes%20Neuronales/Taller_Redes_Neuronales_implementacion_paso%20a%20paso.ipynb#W2sZmlsZQ%3D%3D?line=7'>8</a>\u001b[0m error, error_num \u001b[39m=\u001b[39m Errores(Y, Y_)\n",
      "\u001b[1;32mc:\\Users\\wob19\\Music\\UN_TecnicasDeInteligenciaArtificial\\Taller - Redes Neuronales\\Taller_Redes_Neuronales_implementacion_paso a paso.ipynb Celda 3\u001b[0m in \u001b[0;36mFA\u001b[1;34m(connection)\u001b[0m\n\u001b[0;32m     <a href='vscode-notebook-cell:/c%3A/Users/wob19/Music/UN_TecnicasDeInteligenciaArtificial/Taller%20-%20Redes%20Neuronales/Taller_Redes_Neuronales_implementacion_paso%20a%20paso.ipynb#W2sZmlsZQ%3D%3D?line=37'>38</a>\u001b[0m Y \u001b[39m=\u001b[39m \u001b[39mlist\u001b[39m()\n\u001b[0;32m     <a href='vscode-notebook-cell:/c%3A/Users/wob19/Music/UN_TecnicasDeInteligenciaArtificial/Taller%20-%20Redes%20Neuronales/Taller_Redes_Neuronales_implementacion_paso%20a%20paso.ipynb#W2sZmlsZQ%3D%3D?line=38'>39</a>\u001b[0m \u001b[39mfor\u001b[39;00m con \u001b[39min\u001b[39;00m \u001b[39mrange\u001b[39m(\u001b[39mlen\u001b[39m(connection)):\n\u001b[1;32m---> <a href='vscode-notebook-cell:/c%3A/Users/wob19/Music/UN_TecnicasDeInteligenciaArtificial/Taller%20-%20Redes%20Neuronales/Taller_Redes_Neuronales_implementacion_paso%20a%20paso.ipynb#W2sZmlsZQ%3D%3D?line=39'>40</a>\u001b[0m     \u001b[39mif\u001b[39;00m connection[con] \u001b[39m<\u001b[39;49m \u001b[39m0\u001b[39;49m:\n\u001b[0;32m     <a href='vscode-notebook-cell:/c%3A/Users/wob19/Music/UN_TecnicasDeInteligenciaArtificial/Taller%20-%20Redes%20Neuronales/Taller_Redes_Neuronales_implementacion_paso%20a%20paso.ipynb#W2sZmlsZQ%3D%3D?line=40'>41</a>\u001b[0m         Y\u001b[39m.\u001b[39mappend(\u001b[39m0\u001b[39m)\n\u001b[0;32m     <a href='vscode-notebook-cell:/c%3A/Users/wob19/Music/UN_TecnicasDeInteligenciaArtificial/Taller%20-%20Redes%20Neuronales/Taller_Redes_Neuronales_implementacion_paso%20a%20paso.ipynb#W2sZmlsZQ%3D%3D?line=41'>42</a>\u001b[0m     \u001b[39melse\u001b[39;00m:\n",
      "\u001b[1;31mValueError\u001b[0m: The truth value of an array with more than one element is ambiguous. Use a.any() or a.all()"
     ]
    }
   ],
   "source": [
    "k = 1\n",
    "error = True\n",
    "while error or k > 0:\n",
    "    Net = calcularNet(X, W)\n",
    "    print(Net)\n",
    "    Y = FA(Net)\n",
    "    print(Y)\n",
    "    error, error_num = Errores(Y, Y_)\n",
    "    print(error, error_num)\n",
    "    if error == True:\n",
    "        W = actualizar(W, X, error_num)\n",
    "        print(W)\n",
    "    k -= 1\n",
    "    print(\"Final de ciclo: \", k)\n",
    "\n",
    "#print(W)"
   ]
  }
 ],
 "metadata": {
  "kernelspec": {
   "display_name": "Python 3.10.5 64-bit",
   "language": "python",
   "name": "python3"
  },
  "language_info": {
   "codemirror_mode": {
    "name": "ipython",
    "version": 3
   },
   "file_extension": ".py",
   "mimetype": "text/x-python",
   "name": "python",
   "nbconvert_exporter": "python",
   "pygments_lexer": "ipython3",
   "version": "3.10.5"
  },
  "orig_nbformat": 4,
  "vscode": {
   "interpreter": {
    "hash": "9b11b5c8b55406c93c09919f3a73eb89668d6cb4e3af820905d56541b8a222fb"
   }
  }
 },
 "nbformat": 4,
 "nbformat_minor": 2
}
