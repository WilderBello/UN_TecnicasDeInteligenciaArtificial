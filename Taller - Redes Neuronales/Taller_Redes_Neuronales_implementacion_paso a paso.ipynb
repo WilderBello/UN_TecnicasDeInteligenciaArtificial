{
 "cells": [
  {
   "cell_type": "markdown",
   "metadata": {},
   "source": [
    "<h1>Algoritmo de entrenamiento de perceptrón</h1>\n",
    "<h4>Integrantes: Javier Eduardo Gutierrez Serrano - Wilder Ofrey Bello Herrera</h4>"
   ]
  },
  {
   "cell_type": "code",
   "execution_count": 54,
   "metadata": {},
   "outputs": [
    {
     "name": "stdout",
     "output_type": "stream",
     "text": [
      "[1, 0, 1, 1, 0]\n",
      "[-14  12  -6  15   0]\n",
      "[array([  1, -19,  15,   5,  -3]), array([  1,  26,  12, -22,  22]), array([  1,  -7, -17,  13,  12]), array([  1,  18, -30, -27, -10]), array([  1, -14, -28, -14,  18]), array([  1, -14,  21,  25,  23])]\n"
     ]
    }
   ],
   "source": [
    "import numpy as np\n",
    "# Numero de elementos en el dataset\n",
    "N = 5\n",
    "Y_ = [1, 0, 1, 1, 0]\n",
    "print(Y_)\n",
    "# 1. Inicializar aleatoriamente los parametros(pesos) w_i\n",
    "W = np.random.randint(low=-30, high=30, size=N)\n",
    "print(W)\n",
    "X0 = np.random.randint(low=-30, high=30, size=(N))\n",
    "X0[0] = 1\n",
    "X1 = np.random.randint(low=-30, high=30, size=(N))\n",
    "X1[0] = 1\n",
    "X2 = np.random.randint(low=-30, high=30, size=(N))\n",
    "X2[0] = 1\n",
    "X3 = np.random.randint(low=-30, high=30, size=(N))\n",
    "X3[0] = 1\n",
    "X4 = np.random.randint(low=-30, high=30, size=(N))\n",
    "X4[0] = 1\n",
    "X5 = np.random.randint(low=-30, high=30, size=(N))\n",
    "X5[0] = 1\n",
    "\n",
    "X = [X0, X1, X2, X3, X4, X5]\n",
    "print(X)\n",
    "\n",
    "# Calcular Net\n",
    "def calcularNet(X, W):\n",
    "    Net = list()\n",
    "    \n",
    "    for i in range(len(W)):\n",
    "        elemento = 0\n",
    "        for j in range(len(W)):\n",
    "            elemento += X[i][j]*W[i]\n",
    "        Net.append(elemento)\n",
    "    return Net\n",
    "\n",
    "# Calcular Y\n",
    "def FA(connection):\n",
    "    Y = list()\n",
    "    for con in range(len(connection)):\n",
    "        if connection[con] < 0:\n",
    "            Y.append(0)\n",
    "        else:\n",
    "            Y.append(1)\n",
    "    return Y\n",
    "\n",
    "# Calcular error\n",
    "def Errores(Y, Y_):\n",
    "    error = False\n",
    "    \n",
    "    for i in range(len(Y)):\n",
    "        if Y_[i] - Y[i] != 0:\n",
    "            error = True\n",
    "            error_num = Y_[i] - Y[i]\n",
    "    \n",
    "    return error, error_num\n",
    "\n",
    "# Actualizar los pesos\n",
    "def actualizar(W, X, error_num):\n",
    "    W_next = list()\n",
    "    \n",
    "    for i in range(len(W)):\n",
    "        W_next.append(W[i] + error_num*X[i])\n",
    "    \n",
    "    return W_next"
   ]
  },
  {
   "cell_type": "code",
   "execution_count": 55,
   "metadata": {},
   "outputs": [
    {
     "ename": "SyntaxError",
     "evalue": "invalid syntax (2411743678.py, line 3)",
     "output_type": "error",
     "traceback": [
      "\u001b[1;36m  Input \u001b[1;32mIn [55]\u001b[1;36m\u001b[0m\n\u001b[1;33m    while error or k  0:\u001b[0m\n\u001b[1;37m                      ^\u001b[0m\n\u001b[1;31mSyntaxError\u001b[0m\u001b[1;31m:\u001b[0m invalid syntax\n"
     ]
    }
   ],
   "source": [
    "k = 1\n",
    "error = True\n",
    "while error or k > 0:\n",
    "    Net = calcularNet(X, W)\n",
    "    print(Net)\n",
    "    Y = FA(Net)\n",
    "    print(Y)\n",
    "    error, error_num = Errores(Y, Y_)\n",
    "    print(error, error_num)\n",
    "    if error == True:\n",
    "        W = actualizar(W, X, error_num)\n",
    "        print(W)\n",
    "    k -= 1\n",
    "    print(\"Final de ciclo: \", k)\n",
    "\n",
    "#print(W)"
   ]
  }
 ],
 "metadata": {
  "kernelspec": {
   "display_name": "Python 3.10.5 64-bit",
   "language": "python",
   "name": "python3"
  },
  "language_info": {
   "codemirror_mode": {
    "name": "ipython",
    "version": 3
   },
   "file_extension": ".py",
   "mimetype": "text/x-python",
   "name": "python",
   "nbconvert_exporter": "python",
   "pygments_lexer": "ipython3",
   "version": "3.10.5"
  },
  "orig_nbformat": 4,
  "vscode": {
   "interpreter": {
    "hash": "9b11b5c8b55406c93c09919f3a73eb89668d6cb4e3af820905d56541b8a222fb"
   }
  }
 },
 "nbformat": 4,
 "nbformat_minor": 2
}
