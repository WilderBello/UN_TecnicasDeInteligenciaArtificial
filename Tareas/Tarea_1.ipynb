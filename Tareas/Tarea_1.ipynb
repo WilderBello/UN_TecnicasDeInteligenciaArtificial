{
 "cells": [
  {
   "cell_type": "markdown",
   "id": "438ff275",
   "metadata": {},
   "source": [
    "<h1 style=\"text-align:center;\"> Tarea #1 </h1>\n",
    "\n",
    "<h6 style=\"text-align:center;\"> Integrantes: Wilder Ofrey Bello Herrera - Javier Eduardo Gutierrez Serrano </h6>"
   ]
  },
  {
   "cell_type": "code",
   "execution_count": 3,
   "id": "de7d0773",
   "metadata": {},
   "outputs": [
    {
     "name": "stdout",
     "output_type": "stream",
     "text": [
      "H:355, W:546\n"
     ]
    }
   ],
   "source": [
    "%matplotlib inline\n",
    "import cv2\n",
    "from IPython.display import Image\n",
    "import numpy as np\n",
    "from matplotlib import pyplot as plt\n",
    "\n",
    "img = cv2.imread('Imagen.jpg')\n",
    "\n",
    "h,w,c = img.shape\n",
    "print(f'H:{h}, W:{w}') #Dimensiones\n",
    "\n",
    "cv2.imshow('Original Image',img)\n",
    "cv2.waitKey(0)\n",
    "cv2.destroyAllWindows()"
   ]
  },
  {
   "cell_type": "markdown",
   "id": "f5dadf7a",
   "metadata": {},
   "source": [
    "<ol style=\"font-size:120%; line-height:35px;\">\n",
    "        <h3>Estudiar e implementar (usar) las principales técnicas de interpolación:</h3>\n",
    "        <ul>\n",
    "            <li>Vecino más cercano.</li>\n",
    "       </ul>\n",
    "</ol>"
   ]
  },
  {
   "cell_type": "code",
   "execution_count": null,
   "id": "9c846bb0",
   "metadata": {},
   "outputs": [],
   "source": [
    "scale = 1.5\n",
    "res_inter_nearest = cv2.resize(img, None, fx=scale, fy=scale, interpolation=cv2.INTER_NEAREST)\n",
    "cv2.imshow('Nearest Image',res_inter_nearest)\n",
    "cv2.waitKey(0)\n",
    "cv2.destroyAllWindows()"
   ]
  },
  {
   "cell_type": "markdown",
   "id": "ba743f3a",
   "metadata": {},
   "source": [
    "<ol style=\"font-size:120%; line-height : 35px;\">\n",
    "        <ul>\n",
    "            <li>Bilineal.</li>\n",
    "       </ul>\n",
    "</ol>"
   ]
  },
  {
   "cell_type": "code",
   "execution_count": null,
   "id": "6052a70c",
   "metadata": {},
   "outputs": [],
   "source": [
    "scale = 1.5\n",
    "res_inter_linear = cv2.resize(img, None, fx=scale, fy=scale, interpolation=cv2.INTER_LINEAR)\n",
    "cv2.imshow('Linear Image',res_inter_linear)\n",
    "cv2.waitKey(0)\n",
    "cv2.destroyAllWindows()"
   ]
  },
  {
   "cell_type": "markdown",
   "id": "fc0b8dce",
   "metadata": {},
   "source": [
    "<ol style=\"font-size:120%; line-height : 35px;\">\n",
    "        <ul>\n",
    "            <li>Bicubica.</li>\n",
    "       </ul>\n",
    "</ol>"
   ]
  },
  {
   "cell_type": "code",
   "execution_count": null,
   "id": "7ca8cae5",
   "metadata": {},
   "outputs": [],
   "source": [
    "scale = 1.5\n",
    "res_inter_bicubic = cv2.resize(img, None, fx=scale, fy=scale, interpolation=cv2.INTER_CUBIC)\n",
    "cv2.imshow('Bicubic Image',res_inter_bicubic)\n",
    "cv2.waitKey(0)\n",
    "cv2.destroyAllWindows()"
   ]
  },
  {
   "cell_type": "markdown",
   "id": "7bdfbd28",
   "metadata": {},
   "source": [
    "<ol style=\"font-size:120%; line-height : 35px;\">\n",
    "        <ul>\n",
    "            <li>B-splines.</li>\n",
    "       </ul>\n",
    "</ol>"
   ]
  },
  {
   "cell_type": "code",
   "execution_count": null,
   "id": "53c2b745",
   "metadata": {},
   "outputs": [],
   "source": []
  },
  {
   "cell_type": "markdown",
   "id": "7024f0e1",
   "metadata": {},
   "source": [
    "<ol style=\"font-size:120%; line-height : 35px;\">\n",
    "        <h3>Evaluar el desempeño de las técnicas de interpolación implementadas</h3>\n",
    "</ol>"
   ]
  },
  {
   "cell_type": "code",
   "execution_count": null,
   "id": "66a15951",
   "metadata": {},
   "outputs": [],
   "source": []
  },
  {
   "cell_type": "markdown",
   "id": "e4061703",
   "metadata": {},
   "source": [
    "<ol style=\"font-size:120%; line-height : 35px;\">\n",
    "<h3>Desarrollar una función para rotar de imágenes, cuyo parámetro de entrada sea el ángulo de rotación y cuya salida sea la imagen rotada y debidamente interpolada.</h3>\n",
    "</ol>\n"
   ]
  },
  {
   "cell_type": "code",
   "execution_count": null,
   "id": "78b88b8e",
   "metadata": {},
   "outputs": [],
   "source": []
  }
 ],
 "metadata": {
  "kernelspec": {
   "display_name": "Python 3.10.5 64-bit",
   "language": "python",
   "name": "python3"
  },
  "language_info": {
   "codemirror_mode": {
    "name": "ipython",
    "version": 3
   },
   "file_extension": ".py",
   "mimetype": "text/x-python",
   "name": "python",
   "nbconvert_exporter": "python",
   "pygments_lexer": "ipython3",
   "version": "3.10.5"
  },
  "vscode": {
   "interpreter": {
    "hash": "9b11b5c8b55406c93c09919f3a73eb89668d6cb4e3af820905d56541b8a222fb"
   }
  }
 },
 "nbformat": 4,
 "nbformat_minor": 5
}
