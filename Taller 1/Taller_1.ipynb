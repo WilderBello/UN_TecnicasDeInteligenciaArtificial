{
 "cells": [
  {
   "cell_type": "markdown",
   "metadata": {},
   "source": [
    "<h1 style=\"text-align:center;\"> Taller #1 </h1>\n",
    "\n",
    "<h6 style=\"text-align:center;\"> Integrantes: Wilder Ofrey Bello Herrera - Javier Eduardo Gutierrez Serrano </h6>"
   ]
  },
  {
   "cell_type": "code",
   "execution_count": null,
   "metadata": {},
   "outputs": [],
   "source": []
  }
 ],
 "metadata": {
  "kernelspec": {
   "display_name": "Python 3.10.5 64-bit",
   "language": "python",
   "name": "python3"
  },
  "language_info": {
   "codemirror_mode": {
    "name": "ipython",
    "version": 3
   },
   "file_extension": ".py",
   "mimetype": "text/x-python",
   "name": "python",
   "nbconvert_exporter": "python",
   "pygments_lexer": "ipython3",
   "version": "3.10.5"
  },
  "orig_nbformat": 4,
  "vscode": {
   "interpreter": {
    "hash": "9b11b5c8b55406c93c09919f3a73eb89668d6cb4e3af820905d56541b8a222fb"
   }
  }
 },
 "nbformat": 4,
 "nbformat_minor": 2
}
