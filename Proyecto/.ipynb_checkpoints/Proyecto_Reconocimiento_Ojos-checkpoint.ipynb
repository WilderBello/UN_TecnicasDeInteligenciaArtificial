{
 "cells": [
  {
   "cell_type": "markdown",
   "metadata": {},
   "source": [
    "# Proyecto de reconocimiento de Ojos"
   ]
  },
  {
   "cell_type": "code",
   "execution_count": null,
   "metadata": {},
   "outputs": [],
   "source": [
    "!pip install tensorflow tensorflow-gpu opencv-python matplotlib"
   ]
  },
  {
   "cell_type": "code",
   "execution_count": null,
   "metadata": {},
   "outputs": [],
   "source": [
    "import os\n",
    "import cv2\n",
    "import tensorflow as tf\n",
    "import json\n",
    "import numpy as np\n",
    "from matplotlib import pyplot as plt"
   ]
  },
  {
   "cell_type": "code",
   "execution_count": null,
   "metadata": {},
   "outputs": [],
   "source": [
    "gpus = tf.config.experimental.list_physical_devices('GPU')\n",
    "for gpu in gpus:\n",
    "    tf.config.experimental.set_memory_growth(gpu,True)"
   ]
  },
  {
   "cell_type": "code",
   "execution_count": null,
   "metadata": {},
   "outputs": [],
   "source": [
    "def cargar_img(img):\n",
    "    byte = tf.io.read_file(img)\n",
    "    salida = tf.io.decode_jpeg(byte)\n",
    "    return salida"
   ]
  },
  {
   "cell_type": "code",
   "execution_count": null,
   "metadata": {},
   "outputs": [],
   "source": [
    "entrenamiento = tf.data.Dataset.list_files('C:\\Users\\wob19\\Music\\DataSet\\UBIRIS_800_600\\Sessao_1\\1\\*.jpg', shuffle=False)\n",
    "entrenamiento = entrenamiento.map(cargar_img)\n",
    "entrenamiento = entrenamiento.map(lambda x: tf.image.resize(x, (250,250)))\n",
    "entrenamiento = entrenamiento.map(lambda x: x/255)"
   ]
  },
  {
   "cell_type": "code",
   "execution_count": null,
   "metadata": {},
   "outputs": [],
   "source": [
    "prueba = tf.data.Dataset.list_files('C:\\Users\\wob19\\Music\\DataSet\\UBIRIS_800_600\\Sessao_1\\1\\*.jpg', shuffle=False)\n",
    "prueba = prueba.map(cargar_img)\n",
    "prueba = prueba.map(lambda x: tf.image.resize(x, (250,250)))\n",
    "prueba = prueba.map(lambda x: x/255)"
   ]
  },
  {
   "cell_type": "code",
   "execution_count": null,
   "metadata": {},
   "outputs": [],
   "source": [
    "valor = tf.data.Dataset.list_files('C:\\Users\\wob19\\Music\\DataSet\\UBIRIS_800_600\\Sessao_1\\1\\*.jpg', shuffle=False)\n",
    "valor = valor.map(cargar_img)\n",
    "valor = valor.map(lambda x: tf.image.resize(x, (250,250)))\n",
    "valor = valor.map(lambda x: x/255)"
   ]
  },
  {
   "cell_type": "code",
   "execution_count": null,
   "metadata": {},
   "outputs": [],
   "source": [
    "def etiquetas(etiqueta):\n",
    "    with open(etiqueta.numpy(), 'r', encodibg=\"utf-8\") as f:\n",
    "        etiqueta = json.load(f)\n",
    "    return [etiqueta['keypoints']]"
   ]
  }
 ],
 "metadata": {
  "kernelspec": {
   "display_name": "Python 3 (ipykernel)",
   "language": "python",
   "name": "python3"
  },
  "language_info": {
   "codemirror_mode": {
    "name": "ipython",
    "version": 3
   },
   "file_extension": ".py",
   "mimetype": "text/x-python",
   "name": "python",
   "nbconvert_exporter": "python",
   "pygments_lexer": "ipython3",
   "version": "3.9.12"
  },
  "vscode": {
   "interpreter": {
    "hash": "9b11b5c8b55406c93c09919f3a73eb89668d6cb4e3af820905d56541b8a222fb"
   }
  }
 },
 "nbformat": 4,
 "nbformat_minor": 2
}
