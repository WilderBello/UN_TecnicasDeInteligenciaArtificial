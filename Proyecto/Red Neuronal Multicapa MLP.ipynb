{
 "cells": [
  {
   "cell_type": "code",
   "execution_count": 1,
   "id": "d6764d51",
   "metadata": {},
   "outputs": [],
   "source": [
    "import numpy as np\n",
    "\n",
    "np.random.seed(42)"
   ]
  },
  {
   "cell_type": "code",
   "execution_count": 2,
   "id": "dc3a3c4c",
   "metadata": {},
   "outputs": [],
   "source": [
    "def sigmoid(x):\n",
    "    return 1/(1+np.exp(-x))"
   ]
  },
  {
   "cell_type": "code",
   "execution_count": 3,
   "id": "65accf07",
   "metadata": {},
   "outputs": [],
   "source": [
    "# Tamaño\n",
    "N_input = 5\n",
    "N_hidden_1 = 4\n",
    "N_hidden_2 = 3\n",
    "N_out = 2"
   ]
  },
  {
   "cell_type": "code",
   "execution_count": 13,
   "id": "829d9fce",
   "metadata": {},
   "outputs": [
    {
     "name": "stdout",
     "output_type": "stream",
     "text": [
      "[ 1.         -0.60021688  0.06980208 -0.3853136   0.11351735]\n"
     ]
    }
   ],
   "source": [
    "# Pesos\n",
    "W_input_to_hidden_1 = np.random.normal(0, 0.1, (N_input, N_hidden_1))\n",
    "#print(W_input_to_hidden_1)\n",
    "\n",
    "W_hidden_1_to_hidden_2 = np.random.normal(0, 0.1, (N_hidden_1, N_hidden_2))\n",
    "#print(W_hidden_1_to_hidden_2)\n",
    "\n",
    "W_hidden_2_to_out = np.random.normal(0, 0.1, (N_hidden_2, N_out))\n",
    "#print(W_hidden_2_to_out)\n",
    "\n",
    "X = np.random.randn(N_input)\n",
    "X[0] = 1\n",
    "print(X)"
   ]
  },
  {
   "cell_type": "code",
   "execution_count": 14,
   "id": "1cdcbf34",
   "metadata": {},
   "outputs": [
    {
     "name": "stdout",
     "output_type": "stream",
     "text": [
      "[0.48288969 0.49696391 0.48443679 0.49090475]\n",
      "[0.48401339 0.44875007 0.49745733]\n",
      "[0.51827452 0.48848934]\n"
     ]
    }
   ],
   "source": [
    "# Salida de la red\n",
    "input_to_hidden_1 = np.dot(X, W_input_to_hidden_1)\n",
    "out_of_hidden_1 = sigmoid(input_to_hidden_1)\n",
    "print(out_of_hidden_1)\n",
    "\n",
    "input_to_hidden_2 = np.dot(out_of_hidden_1, W_hidden_1_to_hidden_2)\n",
    "out_of_hidden_2 = sigmoid(input_to_hidden_2)\n",
    "print(out_of_hidden_2)\n",
    "\n",
    "out_of_hidden_2_to_out = np.dot(out_of_hidden_2, W_hidden_2_to_out)\n",
    "out_of_out = sigmoid(out_of_hidden_2_to_out)\n",
    "print(out_of_out)"
   ]
  },
  {
   "cell_type": "code",
   "execution_count": null,
   "id": "32013016",
   "metadata": {},
   "outputs": [],
   "source": []
  }
 ],
 "metadata": {
  "kernelspec": {
   "display_name": "Python 3 (ipykernel)",
   "language": "python",
   "name": "python3"
  },
  "language_info": {
   "codemirror_mode": {
    "name": "ipython",
    "version": 3
   },
   "file_extension": ".py",
   "mimetype": "text/x-python",
   "name": "python",
   "nbconvert_exporter": "python",
   "pygments_lexer": "ipython3",
   "version": "3.9.12"
  }
 },
 "nbformat": 4,
 "nbformat_minor": 5
}
